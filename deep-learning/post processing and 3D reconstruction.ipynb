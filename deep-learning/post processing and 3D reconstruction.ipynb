{
 "cells": [
  {
   "cell_type": "markdown",
   "id": "85b38db9-e943-4bcb-8690-3b4e1edc0f4c",
   "metadata": {},
   "source": [
    "## import libraries"
   ]
  },
  {
   "cell_type": "code",
   "execution_count": null,
   "id": "383afc5c-c46c-449f-8c18-cf05308edfd7",
   "metadata": {},
   "outputs": [],
   "source": [
    "import os\n",
    "import skimage\n",
    "import skimage.io\n",
    "import glob\n",
    "import cv2\n",
    "import numpy as np\n",
    "import matplotlib.pyplot as plt\n",
    "import math"
   ]
  },
  {
   "cell_type": "markdown",
   "id": "c1b12f99-a2a0-4b5a-833c-ce86ea3ffaba",
   "metadata": {},
   "source": [
    "## read in the files (2D binary masks)"
   ]
  },
  {
   "cell_type": "code",
   "execution_count": null,
   "id": "b84eea11-bbf9-4824-83c7-b59d86180c41",
   "metadata": {},
   "outputs": [],
   "source": [
    "files=glob.glob('/Users/jje/Desktop/mdxtrainset/masks/*.png') #read in the files\n",
    "files.sort()\n",
    "files"
   ]
  },
  {
   "cell_type": "code",
   "execution_count": null,
   "id": "6bf64c15-33dc-45f0-a78e-0a387f55d8b5",
   "metadata": {},
   "outputs": [],
   "source": [
    "img = []\n",
    "for item in files:\n",
    "    print(item)\n",
    "    image = cv2.imread(item,0)\n",
    "    \n",
    "    convert = np.where(image == 178, 1, 0)\n",
    "    img.append(convert)\n",
    "img = np.asarray(img)"
   ]
  },
  {
   "cell_type": "code",
   "execution_count": null,
   "id": "e2214fab-0a2d-47b8-8c4a-d8885799662d",
   "metadata": {},
   "outputs": [],
   "source": [
    "#identify individual objects(cells)\n",
    "for i in range(0,len(img)):\n",
    "    img[i] = skimage.measure.label(img[i], connectivity =2, background=0) \n",
    "    \n",
    "#view a single slice as sanity check\n",
    "    \n",
    "plt.imshow(img[27])"
   ]
  },
  {
   "cell_type": "markdown",
   "id": "6450ce60-fab3-49b9-b4ee-ee3d8503c7e1",
   "metadata": {},
   "source": [
    "## define functions"
   ]
  },
  {
   "cell_type": "code",
   "execution_count": null,
   "id": "9368a978-1a5c-48c8-a2b2-baef83f6f734",
   "metadata": {},
   "outputs": [],
   "source": [
    "def bb_intersection_over_union(boxA, boxB):\n",
    "    # determine the (x, y)-coordinates of the intersection rectangle\n",
    "    xA = max(boxA[0], boxB[0])\n",
    "    yA = max(boxA[1], boxB[1])\n",
    "    xB = min(boxA[2], boxB[2])\n",
    "    yB = min(boxA[3], boxB[3])\n",
    "    # compute the area of intersection rectangle\n",
    "    interArea = max(0, xB - xA + 1) * max(0, yB - yA + 1)\n",
    "    # compute the area of both the prediction and ground-truth\n",
    "    # rectangles\n",
    "    boxAArea = (boxA[2] - boxA[0] + 1) * (boxA[3] - boxA[1] + 1)\n",
    "    boxBArea = (boxB[2] - boxB[0] + 1) * (boxB[3] - boxB[1] + 1)\n",
    "    # compute the intersection over union by taking the intersection\n",
    "    # area and dividing it by the sum of prediction + ground-truth\n",
    "    # areas - the interesection area\n",
    "    iou = interArea / float(boxAArea + boxBArea - interArea)\n",
    "    # return the intersection over union value\n",
    "    return iou\n",
    "def dist(p1, p2):  \n",
    "    distance = math.sqrt( ((p1[0]-p2[0])**2)+((p1[1]-p2[1])**2) )\n",
    "    return distance\n",
    "def RelabelZ_with_fixes(previousImage, currentImage,threshold):\n",
    "    # This line ensures non-intersecting label sets\n",
    "    currentImage = relabel_sequential(currentImage,offset=previousImage.max()+1)[0]\n",
    "    relabelimage = currentImage.copy()\n",
    "    waterproperties = measure.regionprops(previousImage, previousImage)\n",
    "    indices = [prop.centroid for prop in waterproperties] \n",
    "    labels = [prop.label for prop in waterproperties]\n",
    "    previousbbox = [prop.bbox  for prop in waterproperties]\n",
    "    if len(indices) > 1:\n",
    "       tree = spatial.cKDTree(indices) #previous\n",
    "       currentwaterproperties = measure.regionprops(currentImage, currentImage)\n",
    "       currentindices = [prop.centroid for prop in currentwaterproperties] \n",
    "       currentlabels = [prop.label for prop in currentwaterproperties] \n",
    "       currentbbox = [prop.bbox  for prop in currentwaterproperties]\n",
    "\n",
    "       if len(currentindices) > 0: \n",
    "           for i in range(0,len(currentindices)):\n",
    "               index = currentindices[i]\n",
    "               #print(f\"index {index}\")\n",
    "               currentlabel = currentlabels[i] \n",
    "               currbbox = currentbbox[i]\n",
    "               #print(f\"currentlabel {currentlabel}\")\n",
    "               if currentlabel > 0:\n",
    "                      previouspoint = tree.query(index)\n",
    "                      #print(f\"prviouspoint {previouspoint}\")\n",
    "                      previouslabel = previousImage[int(indices[previouspoint[1]][0]), int(indices[previouspoint[1]][1])]\n",
    "                      x, y = np.where(np.asarray(indices)[:,0]== indices[previouspoint[1]][0]), np.where(np.asarray(indices)[:,1]== indices[previouspoint[1]][1])\n",
    "                      idx = np.intersect1d(x,y)[0]\n",
    "                      prevbbox = previousbbox[idx]\n",
    "                      iou = bb_intersection_over_union(currbbox, prevbbox)\n",
    "                      distance = dist(indices[previouspoint[1]],index)\n",
    "                      #print(distance)\n",
    "                       #print(f\"previouslabels {previouslabel}\")\n",
    "                      #print(iou)\n",
    "                      if ((distance < threshold) & (iou >0.5)):\n",
    "                             #print(f\"prviouspoint {previouspoint}\")\n",
    "                             #print(f\"currpoint {currentindices}\")\n",
    "                             \n",
    "                             relabelimage[np.where(currentImage == currentlabel)] = previouslabel\n",
    "                             #print(\"keep\")\n",
    "                      else:\n",
    "                             relabelimage[np.where(currentImage == currentlabel)] = currentlabel\n",
    "                             #print(\"fix\")\n",
    "    return relabelimage\n",
    "def merge_labels_across_volume(labelvol, relabelfunc, threshold=20):\n",
    "    nz, ny, nx = labelvol.shape\n",
    "    res = np.zeros_like(labelvol)\n",
    "    res[0,...] = labelvol[0,...]\n",
    "    backup = labelvol.copy() # kapoors code modifies the input array\n",
    "    for i in tqdm.tqdm(range(nz-1)):\n",
    "        res[i+1] = relabelfunc(res[i,...], labelvol[i+1,...],threshold=threshold)\n",
    "        labelvol = backup.copy() # restore the input array\n",
    "    return res"
   ]
  },
  {
   "cell_type": "markdown",
   "id": "42369a00-e653-4916-964e-446564312d39",
   "metadata": {},
   "source": [
    "## process the images"
   ]
  },
  {
   "cell_type": "code",
   "execution_count": null,
   "id": "fbcef625-b1e2-41fc-b26a-004807fb7480",
   "metadata": {},
   "outputs": [],
   "source": [
    "# The microscope reports the following spacing (in µm)\n",
    "original_spacing = np.array([1, 1, 1])\n",
    "\n",
    "# We downsampled each slice 4x to make the data smaller\n",
    "rescaled_spacing = original_spacing * [6, 1, 1]\n",
    "\n",
    "# Normalize the spacing so that pixels are a distance of 1 apart\n",
    "spacing = rescaled_spacing / rescaled_spacing[2]\n",
    "\n",
    "seg = img\n",
    "relabelled_fixes = merge_labels_across_volume(img, RelabelZ_with_fixes)"
   ]
  },
  {
   "cell_type": "markdown",
   "id": "2ded94af-c1ea-4efe-add2-bbbeeb0efcf7",
   "metadata": {},
   "source": [
    "## view on napari"
   ]
  },
  {
   "cell_type": "code",
   "execution_count": null,
   "id": "5b25ba63-5ea5-4424-ba4a-6ba00c868254",
   "metadata": {},
   "outputs": [],
   "source": [
    "viewer = napari.view_image(img)\n",
    "viewer.add_labels(relabelled_fixes, name='re',scale=spacing)"
   ]
  }
 ],
 "metadata": {
  "kernelspec": {
   "display_name": "Python 3",
   "language": "python",
   "name": "python3"
  },
  "language_info": {
   "codemirror_mode": {
    "name": "ipython",
    "version": 3
   },
   "file_extension": ".py",
   "mimetype": "text/x-python",
   "name": "python",
   "nbconvert_exporter": "python",
   "pygments_lexer": "ipython3",
   "version": "3.8.9"
  }
 },
 "nbformat": 4,
 "nbformat_minor": 5
}
